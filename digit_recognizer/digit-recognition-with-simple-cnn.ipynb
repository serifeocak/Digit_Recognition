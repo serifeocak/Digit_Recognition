{
 "cells": [
  {
   "cell_type": "markdown",
   "id": "unexpected-central",
   "metadata": {
    "papermill": {
     "duration": 0.021598,
     "end_time": "2021-06-13T17:04:20.645574",
     "exception": false,
     "start_time": "2021-06-13T17:04:20.623976",
     "status": "completed"
    },
    "tags": []
   },
   "source": [
    "# Digit Recognition with Simple CNN"
   ]
  },
  {
   "cell_type": "markdown",
   "id": "everyday-triangle",
   "metadata": {
    "papermill": {
     "duration": 0.020306,
     "end_time": "2021-06-13T17:04:20.686192",
     "exception": false,
     "start_time": "2021-06-13T17:04:20.665886",
     "status": "completed"
    },
    "tags": []
   },
   "source": []
  },
  {
   "cell_type": "markdown",
   "id": "4f9ce363",
   "metadata": {},
   "source": [
    "# Gerekli Kütüphanelerin Kurulumu"
   ]
  },
  {
   "cell_type": "code",
   "execution_count": 1,
   "id": "determined-timing",
   "metadata": {
    "_cell_guid": "b1076dfc-b9ad-4769-8c92-a6c4dae69d19",
    "_uuid": "8f2839f25d086af736a60e9eeb907d3b93b6e0e5",
    "execution": {
     "iopub.execute_input": "2021-06-13T17:04:20.738966Z",
     "iopub.status.busy": "2021-06-13T17:04:20.735607Z",
     "iopub.status.idle": "2021-06-13T17:04:26.325051Z",
     "shell.execute_reply": "2021-06-13T17:04:26.325611Z",
     "shell.execute_reply.started": "2021-06-10T14:51:14.958248Z"
    },
    "papermill": {
     "duration": 5.61911,
     "end_time": "2021-06-13T17:04:26.325920",
     "exception": false,
     "start_time": "2021-06-13T17:04:20.706810",
     "status": "completed"
    },
    "tags": []
   },
   "outputs": [
    {
     "name": "stdout",
     "output_type": "stream",
     "text": [
      "/kaggle/input/digit-recognizer/sample_submission.csv\n",
      "/kaggle/input/digit-recognizer/train.csv\n",
      "/kaggle/input/digit-recognizer/test.csv\n"
     ]
    }
   ],
   "source": [
    "\n",
    "import numpy as np \n",
    "import pandas as pd \n",
    "import matplotlib.pyplot as plt\n",
    "import seaborn as sns\n",
    "import tensorflow as tf\n",
    "from tensorflow import keras\n",
    "from tensorflow.keras.preprocessing.image import ImageDataGenerator\n",
    "\n",
    "\n",
    "\n",
    "import os\n",
    "for dirname, _, filenames in os.walk('/kaggle/input'):\n",
    "    for filename in filenames:\n",
    "        print(os.path.join(dirname, filename))\n",
    "\n",
    "\n",
    "import warnings\n",
    "warnings.simplefilter(action='ignore', category=Warning)"
   ]
  },
  {
   "cell_type": "markdown",
   "id": "dense-delta",
   "metadata": {
    "papermill": {
     "duration": 0.020592,
     "end_time": "2021-06-13T17:04:26.368503",
     "exception": false,
     "start_time": "2021-06-13T17:04:26.347911",
     "status": "completed"
    },
    "tags": []
   },
   "source": [
    "#  Veri Yükleme ve İnceleme"
   ]
  },
  {
   "cell_type": "markdown",
   "metadata": {},
   "source": []
  },
  {
   "cell_type": "code",
   "execution_count": 2,
   "id": "charged-energy",
   "metadata": {
    "execution": {
     "iopub.execute_input": "2021-06-13T17:04:26.414127Z",
     "iopub.status.busy": "2021-06-13T17:04:26.413607Z",
     "iopub.status.idle": "2021-06-13T17:04:31.011203Z",
     "shell.execute_reply": "2021-06-13T17:04:31.010689Z",
     "shell.execute_reply.started": "2021-06-10T14:51:15.501615Z"
    },
    "papermill": {
     "duration": 4.622316,
     "end_time": "2021-06-13T17:04:31.011341",
     "exception": false,
     "start_time": "2021-06-13T17:04:26.389025",
     "status": "completed"
    },
    "tags": []
   },
   "outputs": [],
   "source": [
    "train_data = pd.read_csv(\"../input/digit-recognizer/train.csv\")\n",
    "test_data = pd.read_csv(\"../input/digit-recognizer/test.csv\")"
   ]
  },
  {
   "cell_type": "code",
   "execution_count": 3,
   "id": "transparent-mayor",
   "metadata": {
    "execution": {
     "iopub.execute_input": "2021-06-13T17:04:31.071776Z",
     "iopub.status.busy": "2021-06-13T17:04:31.070317Z",
     "iopub.status.idle": "2021-06-13T17:04:31.074032Z",
     "shell.execute_reply": "2021-06-13T17:04:31.074615Z",
     "shell.execute_reply.started": "2021-06-10T14:51:20.158479Z"
    },
    "papermill": {
     "duration": 0.032537,
     "end_time": "2021-06-13T17:04:31.074779",
     "exception": false,
     "start_time": "2021-06-13T17:04:31.042242",
     "status": "completed"
    },
    "tags": []
   },
   "outputs": [
    {
     "name": "stdout",
     "output_type": "stream",
     "text": [
      "(42000, 785)\n",
      "(28000, 784)\n"
     ]
    }
   ],
   "source": [
    "print(train_data.shape)\n",
    "print(test_data.shape)"
   ]
  },
  {
   "cell_type": "code",
   "execution_count": 4,
   "id": "checked-mauritius",
   "metadata": {
    "execution": {
     "iopub.execute_input": "2021-06-13T17:04:31.128693Z",
     "iopub.status.busy": "2021-06-13T17:04:31.128058Z",
     "iopub.status.idle": "2021-06-13T17:04:31.148628Z",
     "shell.execute_reply": "2021-06-13T17:04:31.149016Z",
     "shell.execute_reply.started": "2021-06-10T14:51:20.166321Z"
    },
    "papermill": {
     "duration": 0.052223,
     "end_time": "2021-06-13T17:04:31.149142",
     "exception": false,
     "start_time": "2021-06-13T17:04:31.096919",
     "status": "completed"
    },
    "tags": []
   },
   "outputs": [
    {
     "data": {
      "text/html": [
       "<div>\n",
       "<style scoped>\n",
       "    .dataframe tbody tr th:only-of-type {\n",
       "        vertical-align: middle;\n",
       "    }\n",
       "\n",
       "    .dataframe tbody tr th {\n",
       "        vertical-align: top;\n",
       "    }\n",
       "\n",
       "    .dataframe thead th {\n",
       "        text-align: right;\n",
       "    }\n",
       "</style>\n",
       "<table border=\"1\" class=\"dataframe\">\n",
       "  <thead>\n",
       "    <tr style=\"text-align: right;\">\n",
       "      <th></th>\n",
       "      <th>label</th>\n",
       "      <th>pixel0</th>\n",
       "      <th>pixel1</th>\n",
       "      <th>pixel2</th>\n",
       "      <th>pixel3</th>\n",
       "      <th>pixel4</th>\n",
       "      <th>pixel5</th>\n",
       "      <th>pixel6</th>\n",
       "      <th>pixel7</th>\n",
       "      <th>pixel8</th>\n",
       "      <th>...</th>\n",
       "      <th>pixel774</th>\n",
       "      <th>pixel775</th>\n",
       "      <th>pixel776</th>\n",
       "      <th>pixel777</th>\n",
       "      <th>pixel778</th>\n",
       "      <th>pixel779</th>\n",
       "      <th>pixel780</th>\n",
       "      <th>pixel781</th>\n",
       "      <th>pixel782</th>\n",
       "      <th>pixel783</th>\n",
       "    </tr>\n",
       "  </thead>\n",
       "  <tbody>\n",
       "    <tr>\n",
       "      <th>0</th>\n",
       "      <td>1</td>\n",
       "      <td>0</td>\n",
       "      <td>0</td>\n",
       "      <td>0</td>\n",
       "      <td>0</td>\n",
       "      <td>0</td>\n",
       "      <td>0</td>\n",
       "      <td>0</td>\n",
       "      <td>0</td>\n",
       "      <td>0</td>\n",
       "      <td>...</td>\n",
       "      <td>0</td>\n",
       "      <td>0</td>\n",
       "      <td>0</td>\n",
       "      <td>0</td>\n",
       "      <td>0</td>\n",
       "      <td>0</td>\n",
       "      <td>0</td>\n",
       "      <td>0</td>\n",
       "      <td>0</td>\n",
       "      <td>0</td>\n",
       "    </tr>\n",
       "    <tr>\n",
       "      <th>1</th>\n",
       "      <td>0</td>\n",
       "      <td>0</td>\n",
       "      <td>0</td>\n",
       "      <td>0</td>\n",
       "      <td>0</td>\n",
       "      <td>0</td>\n",
       "      <td>0</td>\n",
       "      <td>0</td>\n",
       "      <td>0</td>\n",
       "      <td>0</td>\n",
       "      <td>...</td>\n",
       "      <td>0</td>\n",
       "      <td>0</td>\n",
       "      <td>0</td>\n",
       "      <td>0</td>\n",
       "      <td>0</td>\n",
       "      <td>0</td>\n",
       "      <td>0</td>\n",
       "      <td>0</td>\n",
       "      <td>0</td>\n",
       "      <td>0</td>\n",
       "    </tr>\n",
       "    <tr>\n",
       "      <th>2</th>\n",
       "      <td>1</td>\n",
       "      <td>0</td>\n",
       "      <td>0</td>\n",
       "      <td>0</td>\n",
       "      <td>0</td>\n",
       "      <td>0</td>\n",
       "      <td>0</td>\n",
       "      <td>0</td>\n",
       "      <td>0</td>\n",
       "      <td>0</td>\n",
       "      <td>...</td>\n",
       "      <td>0</td>\n",
       "      <td>0</td>\n",
       "      <td>0</td>\n",
       "      <td>0</td>\n",
       "      <td>0</td>\n",
       "      <td>0</td>\n",
       "      <td>0</td>\n",
       "      <td>0</td>\n",
       "      <td>0</td>\n",
       "      <td>0</td>\n",
       "    </tr>\n",
       "    <tr>\n",
       "      <th>3</th>\n",
       "      <td>4</td>\n",
       "      <td>0</td>\n",
       "      <td>0</td>\n",
       "      <td>0</td>\n",
       "      <td>0</td>\n",
       "      <td>0</td>\n",
       "      <td>0</td>\n",
       "      <td>0</td>\n",
       "      <td>0</td>\n",
       "      <td>0</td>\n",
       "      <td>...</td>\n",
       "      <td>0</td>\n",
       "      <td>0</td>\n",
       "      <td>0</td>\n",
       "      <td>0</td>\n",
       "      <td>0</td>\n",
       "      <td>0</td>\n",
       "      <td>0</td>\n",
       "      <td>0</td>\n",
       "      <td>0</td>\n",
       "      <td>0</td>\n",
       "    </tr>\n",
       "    <tr>\n",
       "      <th>4</th>\n",
       "      <td>0</td>\n",
       "      <td>0</td>\n",
       "      <td>0</td>\n",
       "      <td>0</td>\n",
       "      <td>0</td>\n",
       "      <td>0</td>\n",
       "      <td>0</td>\n",
       "      <td>0</td>\n",
       "      <td>0</td>\n",
       "      <td>0</td>\n",
       "      <td>...</td>\n",
       "      <td>0</td>\n",
       "      <td>0</td>\n",
       "      <td>0</td>\n",
       "      <td>0</td>\n",
       "      <td>0</td>\n",
       "      <td>0</td>\n",
       "      <td>0</td>\n",
       "      <td>0</td>\n",
       "      <td>0</td>\n",
       "      <td>0</td>\n",
       "    </tr>\n",
       "    <tr>\n",
       "      <th>5</th>\n",
       "      <td>0</td>\n",
       "      <td>0</td>\n",
       "      <td>0</td>\n",
       "      <td>0</td>\n",
       "      <td>0</td>\n",
       "      <td>0</td>\n",
       "      <td>0</td>\n",
       "      <td>0</td>\n",
       "      <td>0</td>\n",
       "      <td>0</td>\n",
       "      <td>...</td>\n",
       "      <td>0</td>\n",
       "      <td>0</td>\n",
       "      <td>0</td>\n",
       "      <td>0</td>\n",
       "      <td>0</td>\n",
       "      <td>0</td>\n",
       "      <td>0</td>\n",
       "      <td>0</td>\n",
       "      <td>0</td>\n",
       "      <td>0</td>\n",
       "    </tr>\n",
       "    <tr>\n",
       "      <th>6</th>\n",
       "      <td>7</td>\n",
       "      <td>0</td>\n",
       "      <td>0</td>\n",
       "      <td>0</td>\n",
       "      <td>0</td>\n",
       "      <td>0</td>\n",
       "      <td>0</td>\n",
       "      <td>0</td>\n",
       "      <td>0</td>\n",
       "      <td>0</td>\n",
       "      <td>...</td>\n",
       "      <td>0</td>\n",
       "      <td>0</td>\n",
       "      <td>0</td>\n",
       "      <td>0</td>\n",
       "      <td>0</td>\n",
       "      <td>0</td>\n",
       "      <td>0</td>\n",
       "      <td>0</td>\n",
       "      <td>0</td>\n",
       "      <td>0</td>\n",
       "    </tr>\n",
       "    <tr>\n",
       "      <th>7</th>\n",
       "      <td>3</td>\n",
       "      <td>0</td>\n",
       "      <td>0</td>\n",
       "      <td>0</td>\n",
       "      <td>0</td>\n",
       "      <td>0</td>\n",
       "      <td>0</td>\n",
       "      <td>0</td>\n",
       "      <td>0</td>\n",
       "      <td>0</td>\n",
       "      <td>...</td>\n",
       "      <td>0</td>\n",
       "      <td>0</td>\n",
       "      <td>0</td>\n",
       "      <td>0</td>\n",
       "      <td>0</td>\n",
       "      <td>0</td>\n",
       "      <td>0</td>\n",
       "      <td>0</td>\n",
       "      <td>0</td>\n",
       "      <td>0</td>\n",
       "    </tr>\n",
       "    <tr>\n",
       "      <th>8</th>\n",
       "      <td>5</td>\n",
       "      <td>0</td>\n",
       "      <td>0</td>\n",
       "      <td>0</td>\n",
       "      <td>0</td>\n",
       "      <td>0</td>\n",
       "      <td>0</td>\n",
       "      <td>0</td>\n",
       "      <td>0</td>\n",
       "      <td>0</td>\n",
       "      <td>...</td>\n",
       "      <td>0</td>\n",
       "      <td>0</td>\n",
       "      <td>0</td>\n",
       "      <td>0</td>\n",
       "      <td>0</td>\n",
       "      <td>0</td>\n",
       "      <td>0</td>\n",
       "      <td>0</td>\n",
       "      <td>0</td>\n",
       "      <td>0</td>\n",
       "    </tr>\n",
       "    <tr>\n",
       "      <th>9</th>\n",
       "      <td>3</td>\n",
       "      <td>0</td>\n",
       "      <td>0</td>\n",
       "      <td>0</td>\n",
       "      <td>0</td>\n",
       "      <td>0</td>\n",
       "      <td>0</td>\n",
       "      <td>0</td>\n",
       "      <td>0</td>\n",
       "      <td>0</td>\n",
       "      <td>...</td>\n",
       "      <td>0</td>\n",
       "      <td>0</td>\n",
       "      <td>0</td>\n",
       "      <td>0</td>\n",
       "      <td>0</td>\n",
       "      <td>0</td>\n",
       "      <td>0</td>\n",
       "      <td>0</td>\n",
       "      <td>0</td>\n",
       "      <td>0</td>\n",
       "    </tr>\n",
       "  </tbody>\n",
       "</table>\n",
       "<p>10 rows × 785 columns</p>\n",
       "</div>"
      ],
      "text/plain": [
       "   label  pixel0  pixel1  pixel2  pixel3  pixel4  pixel5  pixel6  pixel7  \\\n",
       "0      1       0       0       0       0       0       0       0       0   \n",
       "1      0       0       0       0       0       0       0       0       0   \n",
       "2      1       0       0       0       0       0       0       0       0   \n",
       "3      4       0       0       0       0       0       0       0       0   \n",
       "4      0       0       0       0       0       0       0       0       0   \n",
       "5      0       0       0       0       0       0       0       0       0   \n",
       "6      7       0       0       0       0       0       0       0       0   \n",
       "7      3       0       0       0       0       0       0       0       0   \n",
       "8      5       0       0       0       0       0       0       0       0   \n",
       "9      3       0       0       0       0       0       0       0       0   \n",
       "\n",
       "   pixel8  ...  pixel774  pixel775  pixel776  pixel777  pixel778  pixel779  \\\n",
       "0       0  ...         0         0         0         0         0         0   \n",
       "1       0  ...         0         0         0         0         0         0   \n",
       "2       0  ...         0         0         0         0         0         0   \n",
       "3       0  ...         0         0         0         0         0         0   \n",
       "4       0  ...         0         0         0         0         0         0   \n",
       "5       0  ...         0         0         0         0         0         0   \n",
       "6       0  ...         0         0         0         0         0         0   \n",
       "7       0  ...         0         0         0         0         0         0   \n",
       "8       0  ...         0         0         0         0         0         0   \n",
       "9       0  ...         0         0         0         0         0         0   \n",
       "\n",
       "   pixel780  pixel781  pixel782  pixel783  \n",
       "0         0         0         0         0  \n",
       "1         0         0         0         0  \n",
       "2         0         0         0         0  \n",
       "3         0         0         0         0  \n",
       "4         0         0         0         0  \n",
       "5         0         0         0         0  \n",
       "6         0         0         0         0  \n",
       "7         0         0         0         0  \n",
       "8         0         0         0         0  \n",
       "9         0         0         0         0  \n",
       "\n",
       "[10 rows x 785 columns]"
      ]
     },
     "execution_count": 4,
     "metadata": {},
     "output_type": "execute_result"
    }
   ],
   "source": [
    "train_data.head(10)"
   ]
  },
  {
   "cell_type": "code",
   "execution_count": 5,
   "id": "female-feature",
   "metadata": {
    "execution": {
     "iopub.execute_input": "2021-06-13T17:04:31.277650Z",
     "iopub.status.busy": "2021-06-13T17:04:31.276976Z",
     "iopub.status.idle": "2021-06-13T17:04:31.439772Z",
     "shell.execute_reply": "2021-06-13T17:04:31.440171Z",
     "shell.execute_reply.started": "2021-06-10T14:51:20.199832Z"
    },
    "papermill": {
     "duration": 0.269496,
     "end_time": "2021-06-13T17:04:31.440313",
     "exception": false,
     "start_time": "2021-06-13T17:04:31.170817",
     "status": "completed"
    },
    "tags": []
   },
   "outputs": [
    {
     "data": {
      "text/plain": [
       "<AxesSubplot:ylabel='count'>"
      ]
     },
     "execution_count": 5,
     "metadata": {},
     "output_type": "execute_result"
    },
    {
     "data": {
      "image/png": "[encoded data removed]",
      "text/plain": [
       "<Figure size 864x432 with 1 Axes>"
      ]
     },
     "metadata": {
      "needs_background": "light"
     },
     "output_type": "display_data"
    }
   ],
   "source": [
    "X = train_data.drop([\"label\"],axis = 1).values\n",
    "Y = train_data[\"label\"].values\n",
    "plt.figure(figsize = (12,6))\n",
    "sns.countplot(Y)"
   ]
  },
  {
   "cell_type": "code",
   "execution_count": 6,
   "id": "tired-turtle",
   "metadata": {
    "execution": {
     "iopub.execute_input": "2021-06-13T17:04:31.512248Z",
     "iopub.status.busy": "2021-06-13T17:04:31.511331Z",
     "iopub.status.idle": "2021-06-13T17:04:31.605885Z",
     "shell.execute_reply": "2021-06-13T17:04:31.605426Z",
     "shell.execute_reply.started": "2021-06-10T14:51:20.465283Z"
    },
    "papermill": {
     "duration": 0.142792,
     "end_time": "2021-06-13T17:04:31.606018",
     "exception": false,
     "start_time": "2021-06-13T17:04:31.463226",
     "status": "completed"
    },
    "tags": []
   },
   "outputs": [
    {
     "data": {
      "text/plain": [
       "<matplotlib.image.AxesImage at 0x7f0bc7646a50>"
      ]
     },
     "execution_count": 6,
     "metadata": {},
     "output_type": "execute_result"
    },
    {
     "data": {
      "image/png": "[encoded data removed]",
      "text/plain": [
       "<Figure size 432x288 with 1 Axes>"
      ]
     },
     "metadata": {
      "needs_background": "light"
     },
     "output_type": "display_data"
    }
   ],
   "source": [
    "plt.imshow(X[0].reshape([28,28]))"
   ]
  },
  {
   "cell_type": "code",
   "execution_count": 7,
   "id": "heard-subscriber",
   "metadata": {
    "execution": {
     "iopub.execute_input": "2021-06-13T17:04:31.669741Z",
     "iopub.status.busy": "2021-06-13T17:04:31.668840Z",
     "iopub.status.idle": "2021-06-13T17:04:31.770780Z",
     "shell.execute_reply": "2021-06-13T17:04:31.770319Z",
     "shell.execute_reply.started": "2021-06-10T14:51:20.760414Z"
    },
    "papermill": {
     "duration": 0.141103,
     "end_time": "2021-06-13T17:04:31.770908",
     "exception": false,
     "start_time": "2021-06-13T17:04:31.629805",
     "status": "completed"
    },
    "tags": []
   },
   "outputs": [
    {
     "data": {
      "text/plain": [
       "<matplotlib.image.AxesImage at 0x7f0bc7698f50>"
      ]
     },
     "execution_count": 7,
     "metadata": {},
     "output_type": "execute_result"
    },
    {
     "data": {
      "image/png": "[encoded data removed]",
      "text/plain": [
       "<Figure size 432x288 with 1 Axes>"
      ]
     },
     "metadata": {
      "needs_background": "light"
     },
     "output_type": "display_data"
    }
   ],
   "source": [
    "plt.imshow(X[1].reshape([28,28]))"
   ]
  },
  {
   "cell_type": "code",
   "execution_count": 8,
   "id": "hearing-universe",
   "metadata": {
    "execution": {
     "iopub.execute_input": "2021-06-13T17:04:31.837357Z",
     "iopub.status.busy": "2021-06-13T17:04:31.836518Z",
     "iopub.status.idle": "2021-06-13T17:04:31.941469Z",
     "shell.execute_reply": "2021-06-13T17:04:31.941928Z"
    },
    "papermill": {
     "duration": 0.146898,
     "end_time": "2021-06-13T17:04:31.942079",
     "exception": false,
     "start_time": "2021-06-13T17:04:31.795181",
     "status": "completed"
    },
    "tags": []
   },
   "outputs": [
    {
     "data": {
      "text/plain": [
       "<matplotlib.image.AxesImage at 0x7f0bc7b29c90>"
      ]
     },
     "execution_count": 8,
     "metadata": {},
     "output_type": "execute_result"
    },
    {
     "data": {
      "image/png": "[encoded data removed]",
      "text/plain": [
       "<Figure size 432x288 with 1 Axes>"
      ]
     },
     "metadata": {
      "needs_background": "light"
     },
     "output_type": "display_data"
    }
   ],
   "source": [
    "plt.imshow(X[7].reshape([28,28]))"
   ]
  },
  {
   "cell_type": "code",
   "execution_count": 9,
   "id": "located-backing",
   "metadata": {
    "execution": {
     "iopub.execute_input": "2021-06-13T17:04:32.168671Z",
     "iopub.status.busy": "2021-06-13T17:04:32.167482Z",
     "iopub.status.idle": "2021-06-13T17:04:32.260769Z",
     "shell.execute_reply": "2021-06-13T17:04:32.261229Z"
    },
    "papermill": {
     "duration": 0.293842,
     "end_time": "2021-06-13T17:04:32.261388",
     "exception": false,
     "start_time": "2021-06-13T17:04:31.967546",
     "status": "completed"
    },
    "tags": []
   },
   "outputs": [
    {
     "data": {
      "text/plain": [
       "<matplotlib.image.AxesImage at 0x7f0bc822bb90>"
      ]
     },
     "execution_count": 9,
     "metadata": {},
     "output_type": "execute_result"
    },
    {
     "data": {
      "image/png": "[encoded data removed]",
      "text/plain": [
       "<Figure size 432x288 with 1 Axes>"
      ]
     },
     "metadata": {
      "needs_background": "light"
     },
     "output_type": "display_data"
    }
   ],
   "source": [
    "plt.imshow(X[14].reshape([28,28]))"
   ]
  },
  {
   "cell_type": "code",
   "execution_count": 10,
   "id": "sudden-regression",
   "metadata": {
    "execution": {
     "iopub.execute_input": "2021-06-13T17:04:32.316841Z",
     "iopub.status.busy": "2021-06-13T17:04:32.316224Z",
     "iopub.status.idle": "2021-06-13T17:04:32.319100Z",
     "shell.execute_reply": "2021-06-13T17:04:32.319473Z"
    },
    "papermill": {
     "duration": 0.032504,
     "end_time": "2021-06-13T17:04:32.319592",
     "exception": false,
     "start_time": "2021-06-13T17:04:32.287088",
     "status": "completed"
    },
    "tags": []
   },
   "outputs": [],
   "source": [
    "X = X.reshape([42000,28,28,1])\n",
    "Y = Y.reshape([42000,1])"
   ]
  },
  {
   "cell_type": "code",
   "execution_count": 11,
   "id": "choice-hotel",
   "metadata": {
    "execution": {
     "iopub.execute_input": "2021-06-13T17:04:32.374682Z",
     "iopub.status.busy": "2021-06-13T17:04:32.374036Z",
     "iopub.status.idle": "2021-06-13T17:04:32.426126Z",
     "shell.execute_reply": "2021-06-13T17:04:32.425697Z"
    },
    "papermill": {
     "duration": 0.081099,
     "end_time": "2021-06-13T17:04:32.426240",
     "exception": false,
     "start_time": "2021-06-13T17:04:32.345141",
     "status": "completed"
    },
    "tags": []
   },
   "outputs": [],
   "source": [
    "# convert to one-hot-encoding\n",
    "from keras.utils.np_utils import to_categorical \n",
    "Y = to_categorical(Y, num_classes = 10)"
   ]
  },
  {
   "cell_type": "code",
   "execution_count": 12,
   "id": "brave-context",
   "metadata": {
    "execution": {
     "iopub.execute_input": "2021-06-13T17:04:32.482744Z",
     "iopub.status.busy": "2021-06-13T17:04:32.482239Z",
     "iopub.status.idle": "2021-06-13T17:04:33.034344Z",
     "shell.execute_reply": "2021-06-13T17:04:33.033244Z"
    },
    "papermill": {
     "duration": 0.582022,
     "end_time": "2021-06-13T17:04:33.034510",
     "exception": false,
     "start_time": "2021-06-13T17:04:32.452488",
     "status": "completed"
    },
    "tags": []
   },
   "outputs": [],
   "source": [
    "from sklearn.model_selection import train_test_split\n",
    "x_train, x_test, y_train, y_test = train_test_split(X, Y, test_size = 0.1, random_state = 14)\n"
   ]
  },
  {
   "cell_type": "code",
   "execution_count": 13,
   "id": "together-support",
   "metadata": {
    "execution": {
     "iopub.execute_input": "2021-06-13T17:04:33.094050Z",
     "iopub.status.busy": "2021-06-13T17:04:33.092489Z",
     "iopub.status.idle": "2021-06-13T17:04:33.096629Z",
     "shell.execute_reply": "2021-06-13T17:04:33.096001Z"
    },
    "papermill": {
     "duration": 0.035892,
     "end_time": "2021-06-13T17:04:33.096778",
     "exception": false,
     "start_time": "2021-06-13T17:04:33.060886",
     "status": "completed"
    },
    "tags": []
   },
   "outputs": [
    {
     "name": "stdout",
     "output_type": "stream",
     "text": [
      "(37800, 28, 28, 1)\n",
      "(37800, 10)\n",
      "(4200, 28, 28, 1)\n",
      "(4200, 10)\n"
     ]
    }
   ],
   "source": [
    "print(x_train.shape)\n",
    "print(y_train.shape)\n",
    "print(x_test.shape)\n",
    "print(y_test.shape)"
   ]
  },
  {
   "cell_type": "code",
   "execution_count": 14,
   "id": "parental-invite",
   "metadata": {
    "execution": {
     "iopub.execute_input": "2021-06-13T17:04:33.155695Z",
     "iopub.status.busy": "2021-06-13T17:04:33.154788Z",
     "iopub.status.idle": "2021-06-13T17:04:33.255202Z",
     "shell.execute_reply": "2021-06-13T17:04:33.254746Z"
    },
    "papermill": {
     "duration": 0.13021,
     "end_time": "2021-06-13T17:04:33.255328",
     "exception": false,
     "start_time": "2021-06-13T17:04:33.125118",
     "status": "completed"
    },
    "tags": []
   },
   "outputs": [],
   "source": [
    "x_train = x_train/255\n",
    "x_test = x_test/255"
   ]
  },
  {
   "cell_type": "markdown",
   "id": "photographic-stream",
   "metadata": {
    "papermill": {
     "duration": 0.026429,
     "end_time": "2021-06-13T17:04:33.309272",
     "exception": false,
     "start_time": "2021-06-13T17:04:33.282843",
     "status": "completed"
    },
    "tags": []
   },
   "source": [
    "# CNN Modelinin Amacı"
   ]
  },
  {
   "cell_type": "code",
   "execution_count": 15,
   "id": "deadly-awareness",
   "metadata": {
    "execution": {
     "iopub.execute_input": "2021-06-13T17:04:33.371488Z",
     "iopub.status.busy": "2021-06-13T17:04:33.370861Z",
     "iopub.status.idle": "2021-06-13T17:04:35.466034Z",
     "shell.execute_reply": "2021-06-13T17:04:35.465518Z"
    },
    "papermill": {
     "duration": 2.129976,
     "end_time": "2021-06-13T17:04:35.466153",
     "exception": false,
     "start_time": "2021-06-13T17:04:33.336177",
     "status": "completed"
    },
    "tags": []
   },
   "outputs": [],
   "source": [
    "model = tf.keras.models.Sequential([\n",
    "    tf.keras.layers.Conv2D(64, (3,3), padding = 'same', activation='relu', input_shape=(28, 28, 1)),\n",
    "    tf.keras.layers.MaxPooling2D(2, 2),\n",
    "    tf.keras.layers.Dropout(0.25),\n",
    "    tf.keras.layers.Conv2D(64, (3,3), padding = 'same', activation='relu'),\n",
    "    tf.keras.layers.MaxPooling2D(2,2),\n",
    "    tf.keras.layers.Dropout(0.25),\n",
    "    tf.keras.layers.Conv2D(128, (3,3), padding = 'same', activation='relu'),\n",
    "    tf.keras.layers.MaxPooling2D(2,2),\n",
    "    tf.keras.layers.Dropout(0.25),\n",
    "    tf.keras.layers.Conv2D(128, (3,3), padding = 'same', activation='relu'),\n",
    "    tf.keras.layers.MaxPooling2D(2,2),\n",
    "    tf.keras.layers.Dropout(0.25),\n",
    "    tf.keras.layers.Flatten(),\n",
    "    tf.keras.layers.Dense(256, activation='relu'),\n",
    "    tf.keras.layers.Dropout(0.5),\n",
    "    tf.keras.layers.Dense(10, activation='softmax')\n",
    "])"
   ]
  },
  {
   "cell_type": "code",
   "execution_count": 16,
   "id": "spanish-rebecca",
   "metadata": {
    "execution": {
     "iopub.execute_input": "2021-06-13T17:04:35.529398Z",
     "iopub.status.busy": "2021-06-13T17:04:35.524912Z",
     "iopub.status.idle": "2021-06-13T17:04:35.535766Z",
     "shell.execute_reply": "2021-06-13T17:04:35.536362Z"
    },
    "papermill": {
     "duration": 0.042615,
     "end_time": "2021-06-13T17:04:35.536542",
     "exception": false,
     "start_time": "2021-06-13T17:04:35.493927",
     "status": "completed"
    },
    "tags": []
   },
   "outputs": [
    {
     "name": "stdout",
     "output_type": "stream",
     "text": [
      "Model: \"sequential\"\n",
      "_________________________________________________________________\n",
      "Layer (type)                 Output Shape              Param #   \n",
      "=================================================================\n",
      "conv2d (Conv2D)              (None, 28, 28, 64)        640       \n",
      "_________________________________________________________________\n",
      "max_pooling2d (MaxPooling2D) (None, 14, 14, 64)        0         \n",
      "_________________________________________________________________\n",
      "dropout (Dropout)            (None, 14, 14, 64)        0         \n",
      "_________________________________________________________________\n",
      "conv2d_1 (Conv2D)            (None, 14, 14, 64)        36928     \n",
      "_________________________________________________________________\n",
      "max_pooling2d_1 (MaxPooling2 (None, 7, 7, 64)          0         \n",
      "_________________________________________________________________\n",
      "dropout_1 (Dropout)          (None, 7, 7, 64)          0         \n",
      "_________________________________________________________________\n",
      "conv2d_2 (Conv2D)            (None, 7, 7, 128)         73856     \n",
      "_________________________________________________________________\n",
      "max_pooling2d_2 (MaxPooling2 (None, 3, 3, 128)         0         \n",
      "_________________________________________________________________\n",
      "dropout_2 (Dropout)          (None, 3, 3, 128)         0         \n",
      "_________________________________________________________________\n",
      "conv2d_3 (Conv2D)            (None, 3, 3, 128)         147584    \n",
      "_________________________________________________________________\n",
      "max_pooling2d_3 (MaxPooling2 (None, 1, 1, 128)         0         \n",
      "_________________________________________________________________\n",
      "dropout_3 (Dropout)          (None, 1, 1, 128)         0         \n",
      "_________________________________________________________________\n",
      "flatten (Flatten)            (None, 128)               0         \n",
      "_________________________________________________________________\n",
      "dense (Dense)                (None, 256)               33024     \n",
      "_________________________________________________________________\n",
      "dropout_4 (Dropout)          (None, 256)               0         \n",
      "_________________________________________________________________\n",
      "dense_1 (Dense)              (None, 10)                2570      \n",
      "=================================================================\n",
      "Total params: 294,602\n",
      "Trainable params: 294,602\n",
      "Non-trainable params: 0\n",
      "_________________________________________________________________\n"
     ]
    }
   ],
   "source": [
    "model.summary()"
   ]
  },
  {
   "cell_type": "markdown",
   "id": "medieval-mother",
   "metadata": {
    "papermill": {
     "duration": 0.026953,
     "end_time": "2021-06-13T17:04:35.591218",
     "exception": false,
     "start_time": "2021-06-13T17:04:35.564265",
     "status": "completed"
    },
    "tags": []
   },
   "source": [
    "## Modelin Derlenmesi (Optimizer=Adam)"
   ]
  },
  {
   "cell_type": "code",
   "execution_count": 17,
   "id": "coordinate-professor",
   "metadata": {
    "execution": {
     "iopub.execute_input": "2021-06-13T17:04:35.656470Z",
     "iopub.status.busy": "2021-06-13T17:04:35.655665Z",
     "iopub.status.idle": "2021-06-13T17:04:35.661278Z",
     "shell.execute_reply": "2021-06-13T17:04:35.661743Z"
    },
    "papermill": {
     "duration": 0.043578,
     "end_time": "2021-06-13T17:04:35.661881",
     "exception": false,
     "start_time": "2021-06-13T17:04:35.618303",
     "status": "completed"
    },
    "tags": []
   },
   "outputs": [],
   "source": [
    "from keras.optimizers import Adam\n",
    "optimizer = Adam(lr=0.001, beta_1=0.9, beta_2=0.999)\n",
    "model.compile(optimizer = optimizer,\n",
    "              loss = 'categorical_crossentropy',\n",
    "              metrics = ['accuracy'])"
   ]
  },
  {
   "cell_type": "markdown",
   "id": "dramatic-expense",
   "metadata": {
    "papermill": {
     "duration": 0.026841,
     "end_time": "2021-06-13T17:04:35.715768",
     "exception": false,
     "start_time": "2021-06-13T17:04:35.688927",
     "status": "completed"
    },
    "tags": []
   },
   "source": [
    "## Learning Rate Reduction"
   ]
  },
  {
   "cell_type": "code",
   "execution_count": 18,
   "id": "adequate-watershed",
   "metadata": {
    "execution": {
     "iopub.execute_input": "2021-06-13T17:04:35.775915Z",
     "iopub.status.busy": "2021-06-13T17:04:35.774699Z",
     "iopub.status.idle": "2021-06-13T17:04:35.777080Z",
     "shell.execute_reply": "2021-06-13T17:04:35.777492Z"
    },
    "papermill": {
     "duration": 0.033908,
     "end_time": "2021-06-13T17:04:35.777614",
     "exception": false,
     "start_time": "2021-06-13T17:04:35.743706",
     "status": "completed"
    },
    "tags": []
   },
   "outputs": [],
   "source": [
    "from keras.callbacks import ReduceLROnPlateau\n",
    "learning_rate_reduction = ReduceLROnPlateau(monitor='val_acc', \n",
    "                                            patience=3, \n",
    "                                            verbose=1, \n",
    "                                            factor=0.6, \n",
    "                                            min_lr=0.00001)"
   ]
  },
  {
   "cell_type": "code",
   "execution_count": 19,
   "id": "technical-guarantee",
   "metadata": {
    "execution": {
     "iopub.execute_input": "2021-06-13T17:04:35.835470Z",
     "iopub.status.busy": "2021-06-13T17:04:35.834921Z",
     "iopub.status.idle": "2021-06-13T17:04:35.838186Z",
     "shell.execute_reply": "2021-06-13T17:04:35.838623Z"
    },
    "papermill": {
     "duration": 0.033624,
     "end_time": "2021-06-13T17:04:35.838750",
     "exception": false,
     "start_time": "2021-06-13T17:04:35.805126",
     "status": "completed"
    },
    "tags": []
   },
   "outputs": [],
   "source": [
    "batch_size = 64\n",
    "epochs = 30"
   ]
  },
  {
   "cell_type": "markdown",
   "id": "sunset-valuable",
   "metadata": {
    "papermill": {
     "duration": 0.027276,
     "end_time": "2021-06-13T17:04:35.893623",
     "exception": false,
     "start_time": "2021-06-13T17:04:35.866347",
     "status": "completed"
    },
    "tags": []
   },
   "source": [
    "## Data Augmentation"
   ]
  },
  {
   "cell_type": "code",
   "execution_count": 20,
   "id": "acknowledged-paris",
   "metadata": {
    "execution": {
     "iopub.execute_input": "2021-06-13T17:04:35.955470Z",
     "iopub.status.busy": "2021-06-13T17:04:35.954351Z",
     "iopub.status.idle": "2021-06-13T17:04:36.046161Z",
     "shell.execute_reply": "2021-06-13T17:04:36.045708Z"
    },
    "papermill": {
     "duration": 0.124214,
     "end_time": "2021-06-13T17:04:36.046285",
     "exception": false,
     "start_time": "2021-06-13T17:04:35.922071",
     "status": "completed"
    },
    "tags": []
   },
   "outputs": [],
   "source": [
    "train_datagen = ImageDataGenerator( \n",
    "        rotation_range=10,  \n",
    "        zoom_range = 0.1, \n",
    "        width_shift_range=0.1,  \n",
    "        height_shift_range=0.1,\n",
    "        shear_range = 0.1,\n",
    "        horizontal_flip=False,  \n",
    "        vertical_flip=False\n",
    "        )\n",
    "train_datagen.fit(x_train)\n"
   ]
  },
  {
   "cell_type": "markdown",
   "id": "insured-methodology",
   "metadata": {
    "papermill": {
     "duration": 0.028327,
     "end_time": "2021-06-13T17:04:36.103871",
     "exception": false,
     "start_time": "2021-06-13T17:04:36.075544",
     "status": "completed"
    },
    "tags": []
   },
   "source": [
    "## Fitting the model"
   ]
  },
  {
   "cell_type": "code",
   "execution_count": 21,
   "id": "accepting-buyer",
   "metadata": {
    "execution": {
     "iopub.execute_input": "2021-06-13T17:04:36.165183Z",
     "iopub.status.busy": "2021-06-13T17:04:36.164107Z",
     "iopub.status.idle": "2021-06-13T17:11:46.578485Z",
     "shell.execute_reply": "2021-06-13T17:11:46.578935Z"
    },
    "papermill": {
     "duration": 430.447558,
     "end_time": "2021-06-13T17:11:46.579095",
     "exception": false,
     "start_time": "2021-06-13T17:04:36.131537",
     "status": "completed"
    },
    "tags": []
   },
   "outputs": [
    {
     "name": "stdout",
     "output_type": "stream",
     "text": [
      "Epoch 1/30\n",
      "590/590 [==============================] - 19s 24ms/step - loss: 1.2180 - accuracy: 0.5601 - val_loss: 0.0766 - val_accuracy: 0.9748\n",
      "Epoch 2/30\n",
      "590/590 [==============================] - 14s 24ms/step - loss: 0.1810 - accuracy: 0.9469 - val_loss: 0.0498 - val_accuracy: 0.9850\n",
      "Epoch 3/30\n",
      "590/590 [==============================] - 14s 24ms/step - loss: 0.1253 - accuracy: 0.9635 - val_loss: 0.0520 - val_accuracy: 0.9836\n",
      "Epoch 4/30\n",
      "590/590 [==============================] - 14s 23ms/step - loss: 0.1093 - accuracy: 0.9684 - val_loss: 0.0357 - val_accuracy: 0.9890\n",
      "Epoch 5/30\n",
      "590/590 [==============================] - 14s 24ms/step - loss: 0.0981 - accuracy: 0.9717 - val_loss: 0.0391 - val_accuracy: 0.9881\n",
      "Epoch 6/30\n",
      "590/590 [==============================] - 14s 23ms/step - loss: 0.0886 - accuracy: 0.9749 - val_loss: 0.0447 - val_accuracy: 0.9867\n",
      "Epoch 7/30\n",
      "590/590 [==============================] - 14s 24ms/step - loss: 0.0860 - accuracy: 0.9763 - val_loss: 0.0348 - val_accuracy: 0.9902\n",
      "Epoch 8/30\n",
      "590/590 [==============================] - 14s 23ms/step - loss: 0.0742 - accuracy: 0.9789 - val_loss: 0.0430 - val_accuracy: 0.9876\n",
      "Epoch 9/30\n",
      "590/590 [==============================] - 15s 25ms/step - loss: 0.0742 - accuracy: 0.9790 - val_loss: 0.0289 - val_accuracy: 0.9907\n",
      "Epoch 10/30\n",
      "590/590 [==============================] - 14s 23ms/step - loss: 0.0644 - accuracy: 0.9809 - val_loss: 0.0327 - val_accuracy: 0.9907\n",
      "Epoch 11/30\n",
      "590/590 [==============================] - 14s 24ms/step - loss: 0.0657 - accuracy: 0.9815 - val_loss: 0.0338 - val_accuracy: 0.9917\n",
      "Epoch 12/30\n",
      "590/590 [==============================] - 14s 24ms/step - loss: 0.0684 - accuracy: 0.9802 - val_loss: 0.0300 - val_accuracy: 0.9910\n",
      "Epoch 13/30\n",
      "590/590 [==============================] - 14s 24ms/step - loss: 0.0671 - accuracy: 0.9809 - val_loss: 0.0330 - val_accuracy: 0.9905\n",
      "Epoch 14/30\n",
      "590/590 [==============================] - 14s 24ms/step - loss: 0.0640 - accuracy: 0.9819 - val_loss: 0.0305 - val_accuracy: 0.9912\n",
      "Epoch 15/30\n",
      "590/590 [==============================] - 14s 24ms/step - loss: 0.0555 - accuracy: 0.9850 - val_loss: 0.0379 - val_accuracy: 0.9893\n",
      "Epoch 16/30\n",
      "590/590 [==============================] - 14s 24ms/step - loss: 0.0625 - accuracy: 0.9839 - val_loss: 0.0253 - val_accuracy: 0.9929\n",
      "Epoch 17/30\n",
      "590/590 [==============================] - 14s 23ms/step - loss: 0.0570 - accuracy: 0.9841 - val_loss: 0.0329 - val_accuracy: 0.9910\n",
      "Epoch 18/30\n",
      "590/590 [==============================] - 15s 25ms/step - loss: 0.0549 - accuracy: 0.9851 - val_loss: 0.0331 - val_accuracy: 0.9914\n",
      "Epoch 19/30\n",
      "590/590 [==============================] - 14s 24ms/step - loss: 0.0547 - accuracy: 0.9848 - val_loss: 0.0237 - val_accuracy: 0.9926\n",
      "Epoch 20/30\n",
      "590/590 [==============================] - 14s 24ms/step - loss: 0.0501 - accuracy: 0.9857 - val_loss: 0.0300 - val_accuracy: 0.9933\n",
      "Epoch 21/30\n",
      "590/590 [==============================] - 14s 24ms/step - loss: 0.0548 - accuracy: 0.9850 - val_loss: 0.0323 - val_accuracy: 0.9914\n",
      "Epoch 22/30\n",
      "590/590 [==============================] - 14s 24ms/step - loss: 0.0502 - accuracy: 0.9854 - val_loss: 0.0267 - val_accuracy: 0.9921\n",
      "Epoch 23/30\n",
      "590/590 [==============================] - 14s 24ms/step - loss: 0.0494 - accuracy: 0.9849 - val_loss: 0.0268 - val_accuracy: 0.9924\n",
      "Epoch 24/30\n",
      "590/590 [==============================] - 14s 24ms/step - loss: 0.0518 - accuracy: 0.9856 - val_loss: 0.0284 - val_accuracy: 0.9919\n",
      "Epoch 25/30\n",
      "590/590 [==============================] - 14s 24ms/step - loss: 0.0517 - accuracy: 0.9859 - val_loss: 0.0264 - val_accuracy: 0.9926\n",
      "Epoch 26/30\n",
      "590/590 [==============================] - 14s 23ms/step - loss: 0.0468 - accuracy: 0.9864 - val_loss: 0.0283 - val_accuracy: 0.9914\n",
      "Epoch 27/30\n",
      "590/590 [==============================] - 15s 25ms/step - loss: 0.0467 - accuracy: 0.9865 - val_loss: 0.0294 - val_accuracy: 0.9921\n",
      "Epoch 28/30\n",
      "590/590 [==============================] - 14s 23ms/step - loss: 0.0477 - accuracy: 0.9867 - val_loss: 0.0343 - val_accuracy: 0.9905\n",
      "Epoch 29/30\n",
      "590/590 [==============================] - 15s 25ms/step - loss: 0.0543 - accuracy: 0.9843 - val_loss: 0.0241 - val_accuracy: 0.9926\n",
      "Epoch 30/30\n",
      "590/590 [==============================] - 14s 24ms/step - loss: 0.0458 - accuracy: 0.9866 - val_loss: 0.0258 - val_accuracy: 0.9933\n"
     ]
    }
   ],
   "source": [
    "history = model.fit(\n",
    "            train_datagen.flow(x_train,y_train,batch_size = batch_size),\n",
    "            validation_data = (x_test,y_test),\n",
    "            batch_size = batch_size,\n",
    "            steps_per_epoch = x_train.shape[0]//batch_size,\n",
    "            epochs = epochs,\n",
    "            verbose = 1,\n",
    "            callbacks=[learning_rate_reduction]\n",
    "            )"
   ]
  },
  {
   "cell_type": "markdown",
   "id": "hawaiian-nerve",
   "metadata": {
    "papermill": {
     "duration": 1.66978,
     "end_time": "2021-06-13T17:11:49.938541",
     "exception": false,
     "start_time": "2021-06-13T17:11:48.268761",
     "status": "completed"
    },
    "tags": []
   },
   "source": [
    "## Evaluation and Accuracy,Loss plots"
   ]
  },
  {
   "cell_type": "code",
   "execution_count": 22,
   "id": "hungarian-justice",
   "metadata": {
    "execution": {
     "iopub.execute_input": "2021-06-13T17:11:53.299247Z",
     "iopub.status.busy": "2021-06-13T17:11:53.297982Z",
     "iopub.status.idle": "2021-06-13T17:11:54.173948Z",
     "shell.execute_reply": "2021-06-13T17:11:54.174335Z"
    },
    "papermill": {
     "duration": 2.581229,
     "end_time": "2021-06-13T17:11:54.174550",
     "exception": false,
     "start_time": "2021-06-13T17:11:51.593321",
     "status": "completed"
    },
    "tags": []
   },
   "outputs": [
    {
     "name": "stdout",
     "output_type": "stream",
     "text": [
      "132/132 [==============================] - 1s 6ms/step - loss: 0.0258 - accuracy: 0.9933\n"
     ]
    },
    {
     "data": {
      "text/plain": [
       "[0.02576344646513462, 0.9933333396911621]"
      ]
     },
     "execution_count": 22,
     "metadata": {},
     "output_type": "execute_result"
    }
   ],
   "source": [
    "model.evaluate(x_test,y_test)"
   ]
  },
  {
   "cell_type": "code",
   "execution_count": 23,
   "id": "logical-harvard",
   "metadata": {
    "execution": {
     "iopub.execute_input": "2021-06-13T17:11:57.761421Z",
     "iopub.status.busy": "2021-06-13T17:11:57.758692Z",
     "iopub.status.idle": "2021-06-13T17:11:57.882864Z",
     "shell.execute_reply": "2021-06-13T17:11:57.883523Z"
    },
    "papermill": {
     "duration": 1.854412,
     "end_time": "2021-06-13T17:11:57.883697",
     "exception": false,
     "start_time": "2021-06-13T17:11:56.029285",
     "status": "completed"
    },
    "tags": []
   },
   "outputs": [
    {
     "data": {
      "text/plain": [
       "<matplotlib.legend.Legend at 0x7f0b854dcbd0>"
      ]
     },
     "execution_count": 23,
     "metadata": {},
     "output_type": "execute_result"
    },
    {
     "data": {
      "image/png": "[encoded data removed]",
      "text/plain": [
       "<Figure size 432x288 with 1 Axes>"
      ]
     },
     "metadata": {
      "needs_background": "light"
     },
     "output_type": "display_data"
    }
   ],
   "source": [
    "acc = history.history['accuracy']\n",
    "val_acc = history.history['val_accuracy']\n",
    "loss = history.history['loss']\n",
    "val_loss = history.history['val_loss']\n",
    "\n",
    "plt.figure()\n",
    "plt.plot(acc,color = 'green',label = 'Training Acuracy')\n",
    "plt.plot(val_acc,color = 'red',label = 'Validation Accuracy')\n",
    "plt.legend()"
   ]
  },
  {
   "cell_type": "code",
   "execution_count": 24,
   "id": "smaller-poetry",
   "metadata": {
    "execution": {
     "iopub.execute_input": "2021-06-13T17:12:01.348132Z",
     "iopub.status.busy": "2021-06-13T17:12:01.342909Z",
     "iopub.status.idle": "2021-06-13T17:12:01.475054Z",
     "shell.execute_reply": "2021-06-13T17:12:01.475427Z"
    },
    "papermill": {
     "duration": 1.847724,
     "end_time": "2021-06-13T17:12:01.475581",
     "exception": false,
     "start_time": "2021-06-13T17:11:59.627857",
     "status": "completed"
    },
    "tags": []
   },
   "outputs": [
    {
     "data": {
      "text/plain": [
       "<matplotlib.legend.Legend at 0x7f0b854a8f50>"
      ]
     },
     "execution_count": 24,
     "metadata": {},
     "output_type": "execute_result"
    },
    {
     "data": {
      "image/png": "[encoded data removed]",
      "text/plain": [
       "<Figure size 432x288 with 1 Axes>"
      ]
     },
     "metadata": {
      "needs_background": "light"
     },
     "output_type": "display_data"
    }
   ],
   "source": [
    "plt.figure()\n",
    "plt.plot(loss,color = 'green',label = 'Training Loss')\n",
    "plt.plot(val_loss,color = 'red',label = 'Validation Loss')\n",
    "plt.legend()"
   ]
  },
  {
   "cell_type": "code",
   "execution_count": 25,
   "id": "worse-comparative",
   "metadata": {
    "execution": {
     "iopub.execute_input": "2021-06-13T17:12:04.800632Z",
     "iopub.status.busy": "2021-06-13T17:12:04.799259Z",
     "iopub.status.idle": "2021-06-13T17:12:04.871179Z",
     "shell.execute_reply": "2021-06-13T17:12:04.870751Z"
    },
    "papermill": {
     "duration": 1.734904,
     "end_time": "2021-06-13T17:12:04.871293",
     "exception": false,
     "start_time": "2021-06-13T17:12:03.136389",
     "status": "completed"
    },
    "tags": []
   },
   "outputs": [
    {
     "name": "stdout",
     "output_type": "stream",
     "text": [
      "(28000, 28, 28, 1)\n"
     ]
    }
   ],
   "source": [
    "data = test_data.values\n",
    "data = data.reshape([28000,28,28,1])\n",
    "print(data.shape)\n",
    "data = data/255"
   ]
  },
  {
   "cell_type": "code",
   "execution_count": 26,
   "id": "subjective-plain",
   "metadata": {
    "execution": {
     "iopub.execute_input": "2021-06-13T17:12:08.474025Z",
     "iopub.status.busy": "2021-06-13T17:12:08.473147Z",
     "iopub.status.idle": "2021-06-13T17:12:11.865428Z",
     "shell.execute_reply": "2021-06-13T17:12:11.866007Z"
    },
    "papermill": {
     "duration": 5.064145,
     "end_time": "2021-06-13T17:12:11.866202",
     "exception": false,
     "start_time": "2021-06-13T17:12:06.802057",
     "status": "completed"
    },
    "tags": []
   },
   "outputs": [
    {
     "name": "stdout",
     "output_type": "stream",
     "text": [
      "(28000,)\n"
     ]
    }
   ],
   "source": [
    "test_pred = model.predict(data)\n",
    "test_pred = np.argmax(test_pred,axis=1)\n",
    "print(test_pred.shape)"
   ]
  },
  {
   "cell_type": "code",
   "execution_count": 27,
   "id": "cloudy-secretary",
   "metadata": {
    "execution": {
     "iopub.execute_input": "2021-06-13T17:12:15.198270Z",
     "iopub.status.busy": "2021-06-13T17:12:15.197674Z",
     "iopub.status.idle": "2021-06-13T17:12:15.217961Z",
     "shell.execute_reply": "2021-06-13T17:12:15.217169Z"
    },
    "papermill": {
     "duration": 1.692678,
     "end_time": "2021-06-13T17:12:15.218099",
     "exception": false,
     "start_time": "2021-06-13T17:12:13.525421",
     "status": "completed"
    },
    "tags": []
   },
   "outputs": [
    {
     "data": {
      "text/html": [
       "<div>\n",
       "<style scoped>\n",
       "    .dataframe tbody tr th:only-of-type {\n",
       "        vertical-align: middle;\n",
       "    }\n",
       "\n",
       "    .dataframe tbody tr th {\n",
       "        vertical-align: top;\n",
       "    }\n",
       "\n",
       "    .dataframe thead th {\n",
       "        text-align: right;\n",
       "    }\n",
       "</style>\n",
       "<table border=\"1\" class=\"dataframe\">\n",
       "  <thead>\n",
       "    <tr style=\"text-align: right;\">\n",
       "      <th></th>\n",
       "      <th>ImageId</th>\n",
       "      <th>Label</th>\n",
       "    </tr>\n",
       "  </thead>\n",
       "  <tbody>\n",
       "    <tr>\n",
       "      <th>0</th>\n",
       "      <td>1</td>\n",
       "      <td>0</td>\n",
       "    </tr>\n",
       "    <tr>\n",
       "      <th>1</th>\n",
       "      <td>2</td>\n",
       "      <td>0</td>\n",
       "    </tr>\n",
       "    <tr>\n",
       "      <th>2</th>\n",
       "      <td>3</td>\n",
       "      <td>0</td>\n",
       "    </tr>\n",
       "    <tr>\n",
       "      <th>3</th>\n",
       "      <td>4</td>\n",
       "      <td>0</td>\n",
       "    </tr>\n",
       "    <tr>\n",
       "      <th>4</th>\n",
       "      <td>5</td>\n",
       "      <td>0</td>\n",
       "    </tr>\n",
       "    <tr>\n",
       "      <th>...</th>\n",
       "      <td>...</td>\n",
       "      <td>...</td>\n",
       "    </tr>\n",
       "    <tr>\n",
       "      <th>27995</th>\n",
       "      <td>27996</td>\n",
       "      <td>0</td>\n",
       "    </tr>\n",
       "    <tr>\n",
       "      <th>27996</th>\n",
       "      <td>27997</td>\n",
       "      <td>0</td>\n",
       "    </tr>\n",
       "    <tr>\n",
       "      <th>27997</th>\n",
       "      <td>27998</td>\n",
       "      <td>0</td>\n",
       "    </tr>\n",
       "    <tr>\n",
       "      <th>27998</th>\n",
       "      <td>27999</td>\n",
       "      <td>0</td>\n",
       "    </tr>\n",
       "    <tr>\n",
       "      <th>27999</th>\n",
       "      <td>28000</td>\n",
       "      <td>0</td>\n",
       "    </tr>\n",
       "  </tbody>\n",
       "</table>\n",
       "<p>28000 rows × 2 columns</p>\n",
       "</div>"
      ],
      "text/plain": [
       "       ImageId  Label\n",
       "0            1      0\n",
       "1            2      0\n",
       "2            3      0\n",
       "3            4      0\n",
       "4            5      0\n",
       "...        ...    ...\n",
       "27995    27996      0\n",
       "27996    27997      0\n",
       "27997    27998      0\n",
       "27998    27999      0\n",
       "27999    28000      0\n",
       "\n",
       "[28000 rows x 2 columns]"
      ]
     },
     "execution_count": 27,
     "metadata": {},
     "output_type": "execute_result"
    }
   ],
   "source": [
    "sample_submission = pd.read_csv(\"../input/digit-recognizer/sample_submission.csv\")\n",
    "sample_submission"
   ]
  },
  {
   "cell_type": "code",
   "execution_count": 28,
   "id": "enhanced-madrid",
   "metadata": {
    "execution": {
     "iopub.execute_input": "2021-06-13T17:12:18.821913Z",
     "iopub.status.busy": "2021-06-13T17:12:18.818800Z",
     "iopub.status.idle": "2021-06-13T17:12:18.826791Z",
     "shell.execute_reply": "2021-06-13T17:12:18.826353Z"
    },
    "papermill": {
     "duration": 1.680432,
     "end_time": "2021-06-13T17:12:18.826901",
     "exception": false,
     "start_time": "2021-06-13T17:12:17.146469",
     "status": "completed"
    },
    "tags": []
   },
   "outputs": [
    {
     "data": {
      "text/plain": [
       "<bound method NDFrame.head of        ImageId  Label\n",
       "0            1      2\n",
       "1            2      0\n",
       "2            3      9\n",
       "3            4      0\n",
       "4            5      3\n",
       "...        ...    ...\n",
       "27995    27996      9\n",
       "27996    27997      7\n",
       "27997    27998      3\n",
       "27998    27999      9\n",
       "27999    28000      2\n",
       "\n",
       "[28000 rows x 2 columns]>"
      ]
     },
     "execution_count": 28,
     "metadata": {},
     "output_type": "execute_result"
    }
   ],
   "source": [
    "index = sample_submission.ImageId\n",
    "data = {'ImageId' : index,'Label': test_pred}\n",
    "df = pd.DataFrame(data)\n",
    "df.head"
   ]
  },
  {
   "cell_type": "code",
   "execution_count": 29,
   "id": "geological-greenhouse",
   "metadata": {
    "execution": {
     "iopub.execute_input": "2021-06-13T17:12:22.177385Z",
     "iopub.status.busy": "2021-06-13T17:12:22.176788Z",
     "iopub.status.idle": "2021-06-13T17:12:22.342283Z",
     "shell.execute_reply": "2021-06-13T17:12:22.341765Z"
    },
    "papermill": {
     "duration": 1.847108,
     "end_time": "2021-06-13T17:12:22.342400",
     "exception": false,
     "start_time": "2021-06-13T17:12:20.495292",
     "status": "completed"
    },
    "tags": []
   },
   "outputs": [],
   "source": [
    "df.to_csv('submission2.csv', index=False)"
   ]
  }
 ],
 "metadata": {
  "kernelspec": {
   "display_name": "Python 3",
   "language": "python",
   "name": "python3"
  },
  "language_info": {
   "codemirror_mode": {
    "name": "ipython",
    "version": 3
   },
   "file_extension": ".py",
   "mimetype": "text/x-python",
   "name": "python",
   "nbconvert_exporter": "python",
   "pygments_lexer": "ipython3",
   "version": "3.7.10"
  },
  "papermill": {
   "default_parameters": {},
   "duration": 492.305172,
   "end_time": "2021-06-13T17:12:26.124296",
   "environment_variables": {},
   "exception": null,
   "input_path": "__notebook__.ipynb",
   "output_path": "__notebook__.ipynb",
   "parameters": {},
   "start_time": "2021-06-13T17:04:13.819124",
   "version": "2.3.3"
  }
 },
 "nbformat": 4,
 "nbformat_minor": 5
}
